{
  "nbformat": 4,
  "nbformat_minor": 0,
  "metadata": {
    "colab": {
      "name": "Logres_affair.ipynb",
      "provenance": [],
      "collapsed_sections": [
        "3dzm2qXfkjeT",
        "R3mQY0ngkjeR",
        "E9-S9azc-xfT"
      ],
      "include_colab_link": true
    },
    "kernelspec": {
      "display_name": "Python 3",
      "language": "python",
      "name": "python3"
    },
    "language_info": {
      "codemirror_mode": {
        "name": "ipython",
        "version": 3
      },
      "file_extension": ".py",
      "mimetype": "text/x-python",
      "name": "python",
      "nbconvert_exporter": "python",
      "pygments_lexer": "ipython3",
      "version": "3.7.6"
    }
  },
  "cells": [
    {
      "cell_type": "markdown",
      "metadata": {
        "id": "view-in-github",
        "colab_type": "text"
      },
      "source": [
        "<a href=\"https://colab.research.google.com/github/1boge/my_repos/blob/master/Logres_affair.ipynb\" target=\"_parent\"><img src=\"https://colab.research.google.com/assets/colab-badge.svg\" alt=\"Open In Colab\"/></a>"
      ]
    },
    {
      "cell_type": "markdown",
      "metadata": {
        "id": "XOr5wZY5MeUh"
      },
      "source": [
        "### Модели разной сложности совершают разны ошибки обучения и ошибки обобщения"
      ]
    },
    {
      "cell_type": "markdown",
      "metadata": {
        "id": "7UMzHJ1YkjeG"
      },
      "source": [
        "Данные содержат признаки пользователей и целевую переменную affair - была ли связь на стороне"
      ]
    },
    {
      "cell_type": "code",
      "metadata": {
        "id": "Z_Ahb43IkjeG"
      },
      "source": [
        "import pandas as pd"
      ],
      "execution_count": 3,
      "outputs": []
    },
    {
      "cell_type": "code",
      "metadata": {
        "colab": {
          "base_uri": "https://localhost:8080/",
          "height": 206
        },
        "id": "mxzxCiyVkjeH",
        "outputId": "09ccb9ec-c202-4602-f44c-edf41f00f87a"
      },
      "source": [
        "data = pd.read_csv('https://raw.githubusercontent.com/1boge/my_repos/master/affair_data.csv')\n",
        "data.head()"
      ],
      "execution_count": 8,
      "outputs": [
        {
          "output_type": "execute_result",
          "data": {
            "text/html": [
              "<div>\n",
              "<style scoped>\n",
              "    .dataframe tbody tr th:only-of-type {\n",
              "        vertical-align: middle;\n",
              "    }\n",
              "\n",
              "    .dataframe tbody tr th {\n",
              "        vertical-align: top;\n",
              "    }\n",
              "\n",
              "    .dataframe thead th {\n",
              "        text-align: right;\n",
              "    }\n",
              "</style>\n",
              "<table border=\"1\" class=\"dataframe\">\n",
              "  <thead>\n",
              "    <tr style=\"text-align: right;\">\n",
              "      <th></th>\n",
              "      <th>rate_marriage</th>\n",
              "      <th>age</th>\n",
              "      <th>yrs_married</th>\n",
              "      <th>children</th>\n",
              "      <th>religious</th>\n",
              "      <th>educ</th>\n",
              "      <th>occupation</th>\n",
              "      <th>occupation_husb</th>\n",
              "      <th>affair</th>\n",
              "    </tr>\n",
              "  </thead>\n",
              "  <tbody>\n",
              "    <tr>\n",
              "      <th>0</th>\n",
              "      <td>3.0</td>\n",
              "      <td>32.0</td>\n",
              "      <td>9.0</td>\n",
              "      <td>3.0</td>\n",
              "      <td>3.0</td>\n",
              "      <td>17.0</td>\n",
              "      <td>2.0</td>\n",
              "      <td>5.0</td>\n",
              "      <td>1</td>\n",
              "    </tr>\n",
              "    <tr>\n",
              "      <th>1</th>\n",
              "      <td>3.0</td>\n",
              "      <td>27.0</td>\n",
              "      <td>13.0</td>\n",
              "      <td>3.0</td>\n",
              "      <td>1.0</td>\n",
              "      <td>14.0</td>\n",
              "      <td>3.0</td>\n",
              "      <td>4.0</td>\n",
              "      <td>1</td>\n",
              "    </tr>\n",
              "    <tr>\n",
              "      <th>2</th>\n",
              "      <td>4.0</td>\n",
              "      <td>22.0</td>\n",
              "      <td>2.5</td>\n",
              "      <td>0.0</td>\n",
              "      <td>1.0</td>\n",
              "      <td>16.0</td>\n",
              "      <td>3.0</td>\n",
              "      <td>5.0</td>\n",
              "      <td>1</td>\n",
              "    </tr>\n",
              "    <tr>\n",
              "      <th>3</th>\n",
              "      <td>4.0</td>\n",
              "      <td>37.0</td>\n",
              "      <td>16.5</td>\n",
              "      <td>4.0</td>\n",
              "      <td>3.0</td>\n",
              "      <td>16.0</td>\n",
              "      <td>5.0</td>\n",
              "      <td>5.0</td>\n",
              "      <td>1</td>\n",
              "    </tr>\n",
              "    <tr>\n",
              "      <th>4</th>\n",
              "      <td>5.0</td>\n",
              "      <td>27.0</td>\n",
              "      <td>9.0</td>\n",
              "      <td>1.0</td>\n",
              "      <td>1.0</td>\n",
              "      <td>14.0</td>\n",
              "      <td>3.0</td>\n",
              "      <td>4.0</td>\n",
              "      <td>1</td>\n",
              "    </tr>\n",
              "  </tbody>\n",
              "</table>\n",
              "</div>"
            ],
            "text/plain": [
              "   rate_marriage   age  yrs_married  ...  occupation  occupation_husb  affair\n",
              "0            3.0  32.0          9.0  ...         2.0              5.0       1\n",
              "1            3.0  27.0         13.0  ...         3.0              4.0       1\n",
              "2            4.0  22.0          2.5  ...         3.0              5.0       1\n",
              "3            4.0  37.0         16.5  ...         5.0              5.0       1\n",
              "4            5.0  27.0          9.0  ...         3.0              4.0       1\n",
              "\n",
              "[5 rows x 9 columns]"
            ]
          },
          "metadata": {},
          "execution_count": 8
        }
      ]
    },
    {
      "cell_type": "code",
      "metadata": {
        "colab": {
          "base_uri": "https://localhost:8080/"
        },
        "id": "2mWvst0zkjeJ",
        "outputId": "a2b22eff-fc97-4a7b-d135-1b3bd23fd422"
      },
      "source": [
        "data.info()"
      ],
      "execution_count": 9,
      "outputs": [
        {
          "output_type": "stream",
          "name": "stdout",
          "text": [
            "<class 'pandas.core.frame.DataFrame'>\n",
            "RangeIndex: 6366 entries, 0 to 6365\n",
            "Data columns (total 9 columns):\n",
            " #   Column           Non-Null Count  Dtype  \n",
            "---  ------           --------------  -----  \n",
            " 0   rate_marriage    6366 non-null   float64\n",
            " 1   age              6366 non-null   float64\n",
            " 2   yrs_married      6366 non-null   float64\n",
            " 3   children         6366 non-null   float64\n",
            " 4   religious        6366 non-null   float64\n",
            " 5   educ             6366 non-null   float64\n",
            " 6   occupation       6366 non-null   float64\n",
            " 7   occupation_husb  6366 non-null   float64\n",
            " 8   affair           6366 non-null   int64  \n",
            "dtypes: float64(8), int64(1)\n",
            "memory usage: 447.7 KB\n"
          ]
        }
      ]
    },
    {
      "cell_type": "code",
      "metadata": {
        "id": "PcnN4_h6Y42b"
      },
      "source": [
        "from sklearn.model_selection import train_test_split"
      ],
      "execution_count": 10,
      "outputs": []
    },
    {
      "cell_type": "code",
      "metadata": {
        "id": "tDW0A_-jkjeJ"
      },
      "source": [
        "from sklearn.linear_model import LogisticRegression\n",
        "from sklearn.tree import DecisionTreeClassifier"
      ],
      "execution_count": 11,
      "outputs": []
    },
    {
      "cell_type": "markdown",
      "metadata": {
        "id": "72hEok7skjeK"
      },
      "source": [
        "Формируем набор признаков и целевую переменную"
      ]
    },
    {
      "cell_type": "code",
      "metadata": {
        "colab": {
          "base_uri": "https://localhost:8080/",
          "height": 112
        },
        "id": "wLUDdPPikjeK",
        "outputId": "9ab24d4d-756b-4bf2-eded-84e4f202389a"
      },
      "source": [
        "X = data[data.columns[:-1]]\n",
        "X.head(2)"
      ],
      "execution_count": 12,
      "outputs": [
        {
          "output_type": "execute_result",
          "data": {
            "text/html": [
              "<div>\n",
              "<style scoped>\n",
              "    .dataframe tbody tr th:only-of-type {\n",
              "        vertical-align: middle;\n",
              "    }\n",
              "\n",
              "    .dataframe tbody tr th {\n",
              "        vertical-align: top;\n",
              "    }\n",
              "\n",
              "    .dataframe thead th {\n",
              "        text-align: right;\n",
              "    }\n",
              "</style>\n",
              "<table border=\"1\" class=\"dataframe\">\n",
              "  <thead>\n",
              "    <tr style=\"text-align: right;\">\n",
              "      <th></th>\n",
              "      <th>rate_marriage</th>\n",
              "      <th>age</th>\n",
              "      <th>yrs_married</th>\n",
              "      <th>children</th>\n",
              "      <th>religious</th>\n",
              "      <th>educ</th>\n",
              "      <th>occupation</th>\n",
              "      <th>occupation_husb</th>\n",
              "    </tr>\n",
              "  </thead>\n",
              "  <tbody>\n",
              "    <tr>\n",
              "      <th>0</th>\n",
              "      <td>3.0</td>\n",
              "      <td>32.0</td>\n",
              "      <td>9.0</td>\n",
              "      <td>3.0</td>\n",
              "      <td>3.0</td>\n",
              "      <td>17.0</td>\n",
              "      <td>2.0</td>\n",
              "      <td>5.0</td>\n",
              "    </tr>\n",
              "    <tr>\n",
              "      <th>1</th>\n",
              "      <td>3.0</td>\n",
              "      <td>27.0</td>\n",
              "      <td>13.0</td>\n",
              "      <td>3.0</td>\n",
              "      <td>1.0</td>\n",
              "      <td>14.0</td>\n",
              "      <td>3.0</td>\n",
              "      <td>4.0</td>\n",
              "    </tr>\n",
              "  </tbody>\n",
              "</table>\n",
              "</div>"
            ],
            "text/plain": [
              "   rate_marriage   age  yrs_married  ...  educ  occupation  occupation_husb\n",
              "0            3.0  32.0          9.0  ...  17.0         2.0              5.0\n",
              "1            3.0  27.0         13.0  ...  14.0         3.0              4.0\n",
              "\n",
              "[2 rows x 8 columns]"
            ]
          },
          "metadata": {},
          "execution_count": 12
        }
      ]
    },
    {
      "cell_type": "code",
      "metadata": {
        "id": "d2_C0iZRkjeL"
      },
      "source": [
        "Y = data['affair']"
      ],
      "execution_count": 13,
      "outputs": []
    },
    {
      "cell_type": "code",
      "metadata": {
        "id": "Kx_hmHmzkjeL"
      },
      "source": [
        "model = LogisticRegression()\n",
        "model_tree = DecisionTreeClassifier()"
      ],
      "execution_count": 14,
      "outputs": []
    },
    {
      "cell_type": "markdown",
      "metadata": {
        "id": "uc-9d7aMkjeL"
      },
      "source": [
        "Разбиваем данные на обучающую и тестовую выборки в соотношении 70 / 30"
      ]
    },
    {
      "cell_type": "code",
      "metadata": {
        "id": "IZ1HwOMTkjeM"
      },
      "source": [
        "X_train, X_test, Y_train, Y_test = train_test_split(X, Y, test_size = 0.3, random_state = 0)"
      ],
      "execution_count": 15,
      "outputs": []
    },
    {
      "cell_type": "markdown",
      "metadata": {
        "id": "dBtVghoxkjeM"
      },
      "source": [
        "Обучаем модель"
      ]
    },
    {
      "cell_type": "code",
      "metadata": {
        "colab": {
          "base_uri": "https://localhost:8080/"
        },
        "id": "ZQZAazXNkjeM",
        "outputId": "fd4ba34f-227e-4de5-ef64-007669f2d813"
      },
      "source": [
        "model.fit(X_train, Y_train)"
      ],
      "execution_count": 16,
      "outputs": [
        {
          "output_type": "execute_result",
          "data": {
            "text/plain": [
              "LogisticRegression(C=1.0, class_weight=None, dual=False, fit_intercept=True,\n",
              "                   intercept_scaling=1, l1_ratio=None, max_iter=100,\n",
              "                   multi_class='auto', n_jobs=None, penalty='l2',\n",
              "                   random_state=None, solver='lbfgs', tol=0.0001, verbose=0,\n",
              "                   warm_start=False)"
            ]
          },
          "metadata": {},
          "execution_count": 16
        }
      ]
    },
    {
      "cell_type": "code",
      "metadata": {
        "colab": {
          "base_uri": "https://localhost:8080/"
        },
        "id": "4_n3CmHOKCs0",
        "outputId": "c6524cfd-28bc-4635-b218-00e6e84b3c17"
      },
      "source": [
        "model_tree.fit(X_train, Y_train)"
      ],
      "execution_count": 17,
      "outputs": [
        {
          "output_type": "execute_result",
          "data": {
            "text/plain": [
              "DecisionTreeClassifier(ccp_alpha=0.0, class_weight=None, criterion='gini',\n",
              "                       max_depth=None, max_features=None, max_leaf_nodes=None,\n",
              "                       min_impurity_decrease=0.0, min_impurity_split=None,\n",
              "                       min_samples_leaf=1, min_samples_split=2,\n",
              "                       min_weight_fraction_leaf=0.0, presort='deprecated',\n",
              "                       random_state=None, splitter='best')"
            ]
          },
          "metadata": {},
          "execution_count": 17
        }
      ]
    },
    {
      "cell_type": "markdown",
      "metadata": {
        "id": "hXa8ETtnkjeM"
      },
      "source": [
        "Получаем прогнозные значения модели (переменная predictions)"
      ]
    },
    {
      "cell_type": "code",
      "metadata": {
        "id": "MSjob2PqkjeN"
      },
      "source": [
        "predictions = model.predict_proba(X_test)"
      ],
      "execution_count": 18,
      "outputs": []
    },
    {
      "cell_type": "code",
      "metadata": {
        "colab": {
          "base_uri": "https://localhost:8080/"
        },
        "id": "V7ZJE78TgTp-",
        "outputId": "3b50d59f-6804-415a-baa4-92bcc3474fea"
      },
      "source": [
        "predictions[:2]"
      ],
      "execution_count": 19,
      "outputs": [
        {
          "output_type": "execute_result",
          "data": {
            "text/plain": [
              "array([[0.37442486, 0.62557514],\n",
              "       [0.92523133, 0.07476867]])"
            ]
          },
          "metadata": {},
          "execution_count": 19
        }
      ]
    },
    {
      "cell_type": "code",
      "metadata": {
        "colab": {
          "base_uri": "https://localhost:8080/"
        },
        "id": "hk3CqKqyKP6N",
        "outputId": "6223984a-1799-411d-d6f4-198cda68b699"
      },
      "source": [
        "model.score(X_train, Y_train)"
      ],
      "execution_count": 20,
      "outputs": [
        {
          "output_type": "execute_result",
          "data": {
            "text/plain": [
              "0.7235188509874326"
            ]
          },
          "metadata": {},
          "execution_count": 20
        }
      ]
    },
    {
      "cell_type": "code",
      "metadata": {
        "colab": {
          "base_uri": "https://localhost:8080/"
        },
        "id": "P4naaDjVkjeN",
        "outputId": "845f46bf-4fb9-4ce4-c089-b070fe9fe869"
      },
      "source": [
        "model.score(X_test, Y_test)"
      ],
      "execution_count": 21,
      "outputs": [
        {
          "output_type": "execute_result",
          "data": {
            "text/plain": [
              "0.7319371727748691"
            ]
          },
          "metadata": {},
          "execution_count": 21
        }
      ]
    },
    {
      "cell_type": "code",
      "metadata": {
        "colab": {
          "base_uri": "https://localhost:8080/"
        },
        "id": "DL958hULKTgb",
        "outputId": "63367911-3335-459b-f0c5-98c4918a100f"
      },
      "source": [
        "model_tree.score(X_train, Y_train)"
      ],
      "execution_count": 22,
      "outputs": [
        {
          "output_type": "execute_result",
          "data": {
            "text/plain": [
              "0.9497307001795332"
            ]
          },
          "metadata": {},
          "execution_count": 22
        }
      ]
    },
    {
      "cell_type": "code",
      "metadata": {
        "colab": {
          "base_uri": "https://localhost:8080/"
        },
        "id": "aYIN4pFjKTsm",
        "outputId": "34952ef0-db19-4a93-c3bf-318e61f831ac"
      },
      "source": [
        "model_tree.score(X_test, Y_test)"
      ],
      "execution_count": 23,
      "outputs": [
        {
          "output_type": "execute_result",
          "data": {
            "text/plain": [
              "0.6518324607329843"
            ]
          },
          "metadata": {},
          "execution_count": 23
        }
      ]
    },
    {
      "cell_type": "markdown",
      "metadata": {
        "id": "mYVrUlRVkjeP"
      },
      "source": [
        "### Оценка качества модели"
      ]
    },
    {
      "cell_type": "markdown",
      "metadata": {
        "id": "mflJ1OX6kjeP"
      },
      "source": [
        "Считаем accuracy последней модели"
      ]
    },
    {
      "cell_type": "code",
      "metadata": {
        "id": "4vJZdYnLkjeQ"
      },
      "source": [
        "tp = 0 # True positive\n",
        "fp = 0 # False positive\n",
        "fn = 0 # False negative\n",
        "tn = 0 # True negative\n",
        "\n",
        "predictions = model.predict_proba( X_test )\n",
        "for predicted_prob, actual in zip( predictions[:, 1], Y_test ):    \n",
        "    if predicted_prob >= 0.5:\n",
        "        predicted = 1\n",
        "    else:\n",
        "        predicted = 0\n",
        "    \n",
        "    if predicted == 1:\n",
        "        if actual == 1:\n",
        "            tp += 1\n",
        "        else:\n",
        "            fp += 1\n",
        "    \n",
        "    else:\n",
        "        if actual == 1:\n",
        "            fn += 1\n",
        "        else:\n",
        "            tn += 1"
      ],
      "execution_count": 24,
      "outputs": []
    },
    {
      "cell_type": "code",
      "metadata": {
        "id": "tBb_IezUh4xL"
      },
      "source": [
        "pred = model.predict(X_test)"
      ],
      "execution_count": 25,
      "outputs": []
    },
    {
      "cell_type": "code",
      "metadata": {
        "colab": {
          "base_uri": "https://localhost:8080/"
        },
        "id": "37rrp_DfgjQX",
        "outputId": "fdf93b87-179f-473c-b1e2-8bf0b780c2f9"
      },
      "source": [
        "tp, fp, fn, tn"
      ],
      "execution_count": 26,
      "outputs": [
        {
          "output_type": "execute_result",
          "data": {
            "text/plain": [
              "(226, 131, 381, 1172)"
            ]
          },
          "metadata": {},
          "execution_count": 26
        }
      ]
    },
    {
      "cell_type": "code",
      "metadata": {
        "colab": {
          "base_uri": "https://localhost:8080/"
        },
        "id": "QKxFu656kjeQ",
        "outputId": "4a53e1eb-6b39-427f-d204-2b9fd34fea46"
      },
      "source": [
        "# какая точность получилась?\n",
        "(tp + tn) / (tp + fp + fn + tn)"
      ],
      "execution_count": 27,
      "outputs": [
        {
          "output_type": "execute_result",
          "data": {
            "text/plain": [
              "0.7319371727748691"
            ]
          },
          "metadata": {},
          "execution_count": 27
        }
      ]
    },
    {
      "cell_type": "code",
      "metadata": {
        "colab": {
          "base_uri": "https://localhost:8080/"
        },
        "id": "jKc29HiykjeQ",
        "outputId": "03b35725-e457-4184-82fc-7de4f85a8898"
      },
      "source": [
        "precision = tp / (tp + fp)\n",
        "precision"
      ],
      "execution_count": 28,
      "outputs": [
        {
          "output_type": "execute_result",
          "data": {
            "text/plain": [
              "0.6330532212885154"
            ]
          },
          "metadata": {},
          "execution_count": 28
        }
      ]
    },
    {
      "cell_type": "code",
      "metadata": {
        "colab": {
          "base_uri": "https://localhost:8080/"
        },
        "id": "dzR0520yg2X1",
        "outputId": "9498537e-85f6-411f-ac88-f6c2afecbc3f"
      },
      "source": [
        "recall = tp / (tp + fn)\n",
        "recall"
      ],
      "execution_count": 29,
      "outputs": [
        {
          "output_type": "execute_result",
          "data": {
            "text/plain": [
              "0.3723228995057661"
            ]
          },
          "metadata": {},
          "execution_count": 29
        }
      ]
    },
    {
      "cell_type": "code",
      "metadata": {
        "id": "dVc1dDS1hhIk"
      },
      "source": [
        "from sklearn.metrics import recall_score, precision_score"
      ],
      "execution_count": 30,
      "outputs": []
    },
    {
      "cell_type": "code",
      "metadata": {
        "colab": {
          "base_uri": "https://localhost:8080/"
        },
        "id": "0L5xHSguhxhz",
        "outputId": "1ea78e56-fa3d-44e8-9932-c45ab5f9a3f6"
      },
      "source": [
        "recall_score(Y_test, pred)"
      ],
      "execution_count": 31,
      "outputs": [
        {
          "output_type": "execute_result",
          "data": {
            "text/plain": [
              "0.3723228995057661"
            ]
          },
          "metadata": {},
          "execution_count": 31
        }
      ]
    },
    {
      "cell_type": "code",
      "metadata": {
        "colab": {
          "base_uri": "https://localhost:8080/"
        },
        "id": "ZSbxPZPQhxwe",
        "outputId": "19d348e1-e137-4016-8c8a-d7f618bb238f"
      },
      "source": [
        "precision_score(Y_test, pred)"
      ],
      "execution_count": 32,
      "outputs": [
        {
          "output_type": "execute_result",
          "data": {
            "text/plain": [
              "0.6330532212885154"
            ]
          },
          "metadata": {},
          "execution_count": 32
        }
      ]
    },
    {
      "cell_type": "markdown",
      "metadata": {
        "id": "3dzm2qXfkjeT"
      },
      "source": [
        "### ROC"
      ]
    },
    {
      "cell_type": "code",
      "metadata": {
        "id": "Kb-zypplkjeT"
      },
      "source": [
        "# посчитаем ROC-кривую (Receiver Operating Characteristic)\n",
        "from sklearn.metrics import roc_curve"
      ],
      "execution_count": 33,
      "outputs": []
    },
    {
      "cell_type": "code",
      "metadata": {
        "id": "jlLgvyXYkjeU"
      },
      "source": [
        "# получаем значения false и true positive rate для различных значений порога\n",
        "fpr, tpr, thres = roc_curve( Y_test, predictions[:, 1] )"
      ],
      "execution_count": 34,
      "outputs": []
    },
    {
      "cell_type": "code",
      "metadata": {
        "colab": {
          "base_uri": "https://localhost:8080/"
        },
        "id": "PGGDGeXkkjeU",
        "outputId": "db95f399-7a20-4851-f735-7b9cb7bfc1a3"
      },
      "source": [
        "for line in zip( fpr[:10], tpr[:10], thres[:10] ):\n",
        "    print( line )"
      ],
      "execution_count": 35,
      "outputs": [
        {
          "output_type": "stream",
          "name": "stdout",
          "text": [
            "(0.0, 0.0, 1.9292091223891046)\n",
            "(0.0, 0.0016474464579901153, 0.9292091223891046)\n",
            "(0.0, 0.008237232289950576, 0.8999886296793331)\n",
            "(0.0007674597083653108, 0.008237232289950576, 0.8977304739459553)\n",
            "(0.0007674597083653108, 0.019769357495881382, 0.8650840076140701)\n",
            "(0.0030698388334612432, 0.019769357495881382, 0.85471299581309)\n",
            "(0.0030698388334612432, 0.023064250411861616, 0.8544826989864462)\n",
            "(0.003837298541826554, 0.023064250411861616, 0.8521926971764641)\n",
            "(0.003837298541826554, 0.03130148270181219, 0.8338303364782959)\n",
            "(0.004604758250191865, 0.03130148270181219, 0.833607318350775)\n"
          ]
        }
      ]
    },
    {
      "cell_type": "code",
      "metadata": {
        "id": "1a-zFkYwRX7-"
      },
      "source": [
        "import  matplotlib.pyplot as plt"
      ],
      "execution_count": 36,
      "outputs": []
    },
    {
      "cell_type": "code",
      "metadata": {
        "colab": {
          "base_uri": "https://localhost:8080/",
          "height": 265
        },
        "id": "-j5ae5IHkjeV",
        "outputId": "ba757094-305b-4e5f-a836-c95fde6bf08c"
      },
      "source": [
        "plt.plot( fpr, tpr )\n",
        "plt.grid()"
      ],
      "execution_count": 37,
      "outputs": [
        {
          "output_type": "display_data",
          "data": {
            "image/png": "[encoded data removed]",
            "text/plain": [
              "<Figure size 432x288 with 1 Axes>"
            ]
          },
          "metadata": {
            "needs_background": "light"
          }
        }
      ]
    },
    {
      "cell_type": "markdown",
      "metadata": {
        "id": "qvecHAsFkjeV"
      },
      "source": [
        "**Построим еще одну модель и сравним их между собой**"
      ]
    },
    {
      "cell_type": "code",
      "metadata": {
        "colab": {
          "base_uri": "https://localhost:8080/",
          "height": 206
        },
        "id": "s2lJMN0CkjeV",
        "outputId": "6a48a64f-9876-4b2b-cd5a-3830c90cbdff"
      },
      "source": [
        "Xshort = X.loc[ :, ['age', 'children'] ]\n",
        "Xshort.head()"
      ],
      "execution_count": 38,
      "outputs": [
        {
          "output_type": "execute_result",
          "data": {
            "text/html": [
              "<div>\n",
              "<style scoped>\n",
              "    .dataframe tbody tr th:only-of-type {\n",
              "        vertical-align: middle;\n",
              "    }\n",
              "\n",
              "    .dataframe tbody tr th {\n",
              "        vertical-align: top;\n",
              "    }\n",
              "\n",
              "    .dataframe thead th {\n",
              "        text-align: right;\n",
              "    }\n",
              "</style>\n",
              "<table border=\"1\" class=\"dataframe\">\n",
              "  <thead>\n",
              "    <tr style=\"text-align: right;\">\n",
              "      <th></th>\n",
              "      <th>age</th>\n",
              "      <th>children</th>\n",
              "    </tr>\n",
              "  </thead>\n",
              "  <tbody>\n",
              "    <tr>\n",
              "      <th>0</th>\n",
              "      <td>32.0</td>\n",
              "      <td>3.0</td>\n",
              "    </tr>\n",
              "    <tr>\n",
              "      <th>1</th>\n",
              "      <td>27.0</td>\n",
              "      <td>3.0</td>\n",
              "    </tr>\n",
              "    <tr>\n",
              "      <th>2</th>\n",
              "      <td>22.0</td>\n",
              "      <td>0.0</td>\n",
              "    </tr>\n",
              "    <tr>\n",
              "      <th>3</th>\n",
              "      <td>37.0</td>\n",
              "      <td>4.0</td>\n",
              "    </tr>\n",
              "    <tr>\n",
              "      <th>4</th>\n",
              "      <td>27.0</td>\n",
              "      <td>1.0</td>\n",
              "    </tr>\n",
              "  </tbody>\n",
              "</table>\n",
              "</div>"
            ],
            "text/plain": [
              "    age  children\n",
              "0  32.0       3.0\n",
              "1  27.0       3.0\n",
              "2  22.0       0.0\n",
              "3  37.0       4.0\n",
              "4  27.0       1.0"
            ]
          },
          "metadata": {},
          "execution_count": 38
        }
      ]
    },
    {
      "cell_type": "code",
      "metadata": {
        "id": "-CMBfPFEkjeW"
      },
      "source": [
        "model2 = LogisticRegression()"
      ],
      "execution_count": 39,
      "outputs": []
    },
    {
      "cell_type": "code",
      "metadata": {
        "id": "kw23goxZkjeW"
      },
      "source": [
        "X_train_short, X_test_short, Y_train, Y_test = train_test_split( Xshort, Y, test_size = 0.3, random_state = 0 )"
      ],
      "execution_count": 40,
      "outputs": []
    },
    {
      "cell_type": "code",
      "metadata": {
        "colab": {
          "base_uri": "https://localhost:8080/"
        },
        "id": "4dPGyZrhkjeW",
        "outputId": "d776eea1-18f6-4d39-9d76-5a654385bc4c"
      },
      "source": [
        "model2.fit( X_train_short, Y_train )"
      ],
      "execution_count": 41,
      "outputs": [
        {
          "output_type": "execute_result",
          "data": {
            "text/plain": [
              "LogisticRegression(C=1.0, class_weight=None, dual=False, fit_intercept=True,\n",
              "                   intercept_scaling=1, l1_ratio=None, max_iter=100,\n",
              "                   multi_class='auto', n_jobs=None, penalty='l2',\n",
              "                   random_state=None, solver='lbfgs', tol=0.0001, verbose=0,\n",
              "                   warm_start=False)"
            ]
          },
          "metadata": {},
          "execution_count": 41
        }
      ]
    },
    {
      "cell_type": "code",
      "metadata": {
        "id": "eU2_-bv2kjeW"
      },
      "source": [
        "predictions2 = model2.predict_proba( X_test_short )"
      ],
      "execution_count": 42,
      "outputs": []
    },
    {
      "cell_type": "code",
      "metadata": {
        "id": "B-f4wHEXkjeW"
      },
      "source": [
        "fpr2, tpr2, thres2 = roc_curve( Y_test, predictions2[:, 1] )"
      ],
      "execution_count": 43,
      "outputs": []
    },
    {
      "cell_type": "code",
      "metadata": {
        "colab": {
          "base_uri": "https://localhost:8080/",
          "height": 279
        },
        "id": "jdAjpLOPkjeX",
        "outputId": "b03890e3-0fae-497a-e602-e4990ffe8bbe"
      },
      "source": [
        "plt.plot( fpr, tpr, label = 'All columns' )\n",
        "plt.plot( fpr2, tpr2, label = 'Age & children' )\n",
        "\n",
        "plt.xlabel('False Positive Rate')\n",
        "plt.ylabel('True Positive Rate')\n",
        "\n",
        "plt.legend( loc = 0 )\n",
        "plt.grid()\n",
        "plt.show()\n"
      ],
      "execution_count": 44,
      "outputs": [
        {
          "output_type": "display_data",
          "data": {
            "image/png": "[encoded data removed]",
            "text/plain": [
              "<Figure size 432x288 with 1 Axes>"
            ]
          },
          "metadata": {
            "needs_background": "light"
          }
        }
      ]
    },
    {
      "cell_type": "markdown",
      "metadata": {
        "id": "H5Uyp7gSkjeX"
      },
      "source": [
        "**Посчитаем площадь под ROC-кривой для двух моделей**"
      ]
    },
    {
      "cell_type": "code",
      "metadata": {
        "id": "KB8FA7YikjeX"
      },
      "source": [
        "from sklearn.metrics import roc_curve"
      ],
      "execution_count": 45,
      "outputs": []
    },
    {
      "cell_type": "code",
      "metadata": {
        "id": "ARCwepwckjeX"
      },
      "source": [
        "from sklearn.metrics import roc_auc_score"
      ],
      "execution_count": 46,
      "outputs": []
    },
    {
      "cell_type": "code",
      "metadata": {
        "colab": {
          "base_uri": "https://localhost:8080/"
        },
        "id": "vkzCSBJHkjeY",
        "outputId": "b4080bf5-0ebd-4418-ef38-22677bff79d9"
      },
      "source": [
        "roc_auc_score( Y_test, predictions[:, 1] )"
      ],
      "execution_count": 47,
      "outputs": [
        {
          "output_type": "execute_result",
          "data": {
            "text/plain": [
              "0.7451629176618145"
            ]
          },
          "metadata": {},
          "execution_count": 47
        }
      ]
    },
    {
      "cell_type": "code",
      "metadata": {
        "colab": {
          "base_uri": "https://localhost:8080/"
        },
        "id": "ZMrF59_ZkjeY",
        "outputId": "092d52eb-7e6c-4dcf-ead2-18b8275f70f8"
      },
      "source": [
        "roc_auc_score( Y_test, predictions2[:, 1] )"
      ],
      "execution_count": 48,
      "outputs": [
        {
          "output_type": "execute_result",
          "data": {
            "text/plain": [
              "0.6311452091928271"
            ]
          },
          "metadata": {},
          "execution_count": 48
        }
      ]
    },
    {
      "cell_type": "markdown",
      "metadata": {
        "id": "5umaloKukjeY"
      },
      "source": [
        "Можно посчитать с помощью более общего метода auc\n",
        "\n",
        "Про разницу между ними https://stackoverflow.com/questions/31159157/different-result-with-roc-auc-score-and-auc"
      ]
    },
    {
      "cell_type": "code",
      "metadata": {
        "id": "P-GrYXXHkjeY"
      },
      "source": [
        "from sklearn.metrics import auc"
      ],
      "execution_count": 49,
      "outputs": []
    },
    {
      "cell_type": "code",
      "metadata": {
        "colab": {
          "base_uri": "https://localhost:8080/"
        },
        "id": "VzRrkHookjeZ",
        "outputId": "c75d5721-11b7-4e51-a2de-439edd15250c"
      },
      "source": [
        "auc( fpr, tpr )"
      ],
      "execution_count": 50,
      "outputs": [
        {
          "output_type": "execute_result",
          "data": {
            "text/plain": [
              "0.7451629176618145"
            ]
          },
          "metadata": {},
          "execution_count": 50
        }
      ]
    },
    {
      "cell_type": "code",
      "metadata": {
        "colab": {
          "base_uri": "https://localhost:8080/"
        },
        "id": "g3BHjIyAkjeZ",
        "outputId": "06a66ce0-9d7e-4f2e-a635-b5f8ff9dd7ea"
      },
      "source": [
        "auc( fpr2, tpr2 )"
      ],
      "execution_count": 51,
      "outputs": [
        {
          "output_type": "execute_result",
          "data": {
            "text/plain": [
              "0.6311452091928271"
            ]
          },
          "metadata": {},
          "execution_count": 51
        }
      ]
    },
    {
      "cell_type": "markdown",
      "metadata": {
        "id": "R3mQY0ngkjeR"
      },
      "source": [
        "### Используем готовые библиотеки"
      ]
    },
    {
      "cell_type": "code",
      "metadata": {
        "id": "Zb2ObpdykjeR"
      },
      "source": [
        "# метод для построения графика precision-recall\n",
        "from sklearn.metrics import precision_recall_curve"
      ],
      "execution_count": 52,
      "outputs": []
    },
    {
      "cell_type": "code",
      "metadata": {
        "id": "Mt623nFbkjeR"
      },
      "source": [
        "pr, re, thres = precision_recall_curve( Y_test, predictions[:, 1] )"
      ],
      "execution_count": 53,
      "outputs": []
    },
    {
      "cell_type": "code",
      "metadata": {
        "colab": {
          "base_uri": "https://localhost:8080/"
        },
        "id": "IAoHkodhm3i1",
        "outputId": "82caefe1-b831-4265-e0b3-f739da362222"
      },
      "source": [
        "pr.shape, thres.shape"
      ],
      "execution_count": 54,
      "outputs": [
        {
          "output_type": "execute_result",
          "data": {
            "text/plain": [
              "((1669,), (1668,))"
            ]
          },
          "metadata": {},
          "execution_count": 54
        }
      ]
    },
    {
      "cell_type": "code",
      "metadata": {
        "colab": {
          "base_uri": "https://localhost:8080/"
        },
        "id": "llahQqWQkjeS",
        "outputId": "009ea8b4-cbc9-4dea-aa81-de103ae4c6d8"
      },
      "source": [
        "# посмотрим что получилось\n",
        "for line in zip( pr[:10], re[:10], thres[:10] ):\n",
        "    print( line )"
      ],
      "execution_count": 55,
      "outputs": [
        {
          "output_type": "stream",
          "name": "stdout",
          "text": [
            "(0.32338838572189665, 1.0, 0.07582923251103321)\n",
            "(0.3230277185501066, 0.9983525535420099, 0.07617596157571913)\n",
            "(0.3232, 0.9983525535420099, 0.07800501586816877)\n",
            "(0.3233724653148346, 0.9983525535420099, 0.07833731223692608)\n",
            "(0.32354511478910836, 0.9983525535420099, 0.07858652846139304)\n",
            "(0.32371794871794873, 0.9983525535420099, 0.07969132533406419)\n",
            "(0.3238909673971138, 0.9983525535420099, 0.07987106574004733)\n",
            "(0.3240641711229946, 0.9983525535420099, 0.0803136757027235)\n",
            "(0.32423756019261635, 0.9983525535420099, 0.08053860905221413)\n",
            "(0.3238758029978587, 0.9967051070840197, 0.08068797247400258)\n"
          ]
        }
      ]
    },
    {
      "cell_type": "code",
      "metadata": {
        "colab": {
          "base_uri": "https://localhost:8080/",
          "height": 287
        },
        "id": "1i74fb0smoV8",
        "outputId": "e07a3de3-b0e0-4a36-c52a-56ec7d186508"
      },
      "source": [
        "plt.plot(pr,re)\n",
        "plt.grid()\n",
        "plt.xlim(0,1)\n",
        "plt.ylim(0,1)"
      ],
      "execution_count": 56,
      "outputs": [
        {
          "output_type": "execute_result",
          "data": {
            "text/plain": [
              "(0.0, 1.0)"
            ]
          },
          "metadata": {},
          "execution_count": 56
        },
        {
          "output_type": "display_data",
          "data": {
            "image/png": "[encoded data removed]",
            "text/plain": [
              "<Figure size 432x288 with 1 Axes>"
            ]
          },
          "metadata": {
            "needs_background": "light"
          }
        }
      ]
    },
    {
      "cell_type": "code",
      "metadata": {
        "id": "MxqbUEsjkjeS"
      },
      "source": [
        "from sklearn.metrics import average_precision_score"
      ],
      "execution_count": 57,
      "outputs": []
    },
    {
      "cell_type": "code",
      "metadata": {
        "colab": {
          "base_uri": "https://localhost:8080/"
        },
        "id": "aRVYif4bkjeT",
        "outputId": "4045aeee-6021-40ce-fbbd-1565cdbbb13d"
      },
      "source": [
        "# площадь под кривой\n",
        "average_precision_score( Y_test, predictions[:, 1] )"
      ],
      "execution_count": 58,
      "outputs": [
        {
          "output_type": "execute_result",
          "data": {
            "text/plain": [
              "0.5761322026533253"
            ]
          },
          "metadata": {},
          "execution_count": 58
        }
      ]
    },
    {
      "cell_type": "markdown",
      "metadata": {
        "id": "E9-S9azc-xfT"
      },
      "source": [
        "### Разные разбиения -> разные результаты"
      ]
    },
    {
      "cell_type": "markdown",
      "metadata": {
        "id": "Ko_YNw_0kjeN"
      },
      "source": [
        "Построим набор моделей для значений random_state от 0 до 9. Получите model.score для каждого варианта."
      ]
    },
    {
      "cell_type": "code",
      "metadata": {
        "colab": {
          "base_uri": "https://localhost:8080/"
        },
        "id": "i8l_HqAzkjeO",
        "outputId": "b89af9b4-073b-4f20-c78c-b31fcb8cae43"
      },
      "source": [
        "for i in range(10):\n",
        "    X_train, X_test, Y_train, Y_test = train_test_split(X, Y, test_size = 0.3, random_state = i)\n",
        "    model = LogisticRegression()\n",
        "    model.fit(X_train, Y_train)\n",
        "    print(\"{}: {}\".format(i, model.score(X_test, Y_test)))"
      ],
      "execution_count": 59,
      "outputs": [
        {
          "output_type": "stream",
          "name": "stdout",
          "text": [
            "0: 0.7319371727748691\n",
            "1: 0.731413612565445\n",
            "2: 0.7172774869109948\n",
            "3: 0.7198952879581152\n",
            "4: 0.7136125654450262\n",
            "5: 0.7272251308900524\n",
            "6: 0.7136125654450262\n",
            "7: 0.7361256544502618\n",
            "8: 0.7162303664921466\n",
            "9: 0.7204188481675393\n"
          ]
        }
      ]
    },
    {
      "cell_type": "code",
      "metadata": {
        "colab": {
          "base_uri": "https://localhost:8080/"
        },
        "id": "2J3Navzt8SY-",
        "outputId": "c49b175a-a26e-45de-85f4-5d2695656bc6"
      },
      "source": [
        "from sklearn.model_selection import cross_val_score\n",
        "\n",
        "scores = cross_val_score(model, X_train, Y_train, cv=7)\n",
        "scores.mean(), scores"
      ],
      "execution_count": 60,
      "outputs": [
        {
          "output_type": "execute_result",
          "data": {
            "text/plain": [
              "(0.7273315504928904,\n",
              " array([0.72684458, 0.711146  , 0.74568289, 0.73626374, 0.70754717,\n",
              "        0.72484277, 0.73899371]))"
            ]
          },
          "metadata": {},
          "execution_count": 60
        }
      ]
    },
    {
      "cell_type": "code",
      "metadata": {
        "colab": {
          "base_uri": "https://localhost:8080/"
        },
        "id": "x0UdM_LF-G2r",
        "outputId": "c7f49cce-5ba5-4bed-e8ad-b94eefb8b660"
      },
      "source": [
        "from sklearn.model_selection import KFold\n",
        "kf = KFold(n_splits=9)\n",
        "\n",
        "scores = cross_val_score(model, X_train, Y_train, cv=kf)\n",
        "\n",
        "scores.mean(), scores"
      ],
      "execution_count": 61,
      "outputs": [
        {
          "output_type": "execute_result",
          "data": {
            "text/plain": [
              "(0.7248642337352015,\n",
              " array([0.72983871, 0.72121212, 0.71313131, 0.73535354, 0.72929293,\n",
              "        0.72525253, 0.71111111, 0.72929293, 0.72929293]))"
            ]
          },
          "metadata": {},
          "execution_count": 61
        }
      ]
    },
    {
      "cell_type": "code",
      "metadata": {
        "colab": {
          "base_uri": "https://localhost:8080/"
        },
        "id": "76D-RDmP9QU8",
        "outputId": "6c3ebeeb-7b20-4e3d-b490-58f6597b152d"
      },
      "source": [
        "from sklearn.model_selection import StratifiedKFold\n",
        "skf = StratifiedKFold(n_splits=9)\n",
        "\n",
        "scores = cross_val_score(model, X_train, Y_train, cv=skf)\n",
        "\n",
        "scores.mean(), scores"
      ],
      "execution_count": 62,
      "outputs": [
        {
          "output_type": "execute_result",
          "data": {
            "text/plain": [
              "(0.7244157525071504,\n",
              " array([0.72782258, 0.74343434, 0.68686869, 0.75151515, 0.72525253,\n",
              "        0.70707071, 0.71111111, 0.74141414, 0.72525253]))"
            ]
          },
          "metadata": {},
          "execution_count": 62
        }
      ]
    },
    {
      "cell_type": "markdown",
      "metadata": {
        "id": "ss7l81dMkjeZ"
      },
      "source": [
        "## Пример влияния L1 и L2-регуляризации"
      ]
    },
    {
      "cell_type": "code",
      "metadata": {
        "id": "6YlZcJ95kjeZ"
      },
      "source": [
        "model1 = LogisticRegression( penalty = 'l1', C = 0.01, solver='liblinear' ).fit( X_train, Y_train )\n",
        "predictions = model1.predict_proba( X_test )"
      ],
      "execution_count": 63,
      "outputs": []
    },
    {
      "cell_type": "code",
      "metadata": {
        "id": "VwW-xryBkjea"
      },
      "source": [
        "model2 = LogisticRegression( penalty = 'l2', C = 0.1, solver='liblinear' ).fit( X_train, Y_train )\n",
        "predictions2 = model2.predict_proba( X_test )"
      ],
      "execution_count": 64,
      "outputs": []
    },
    {
      "cell_type": "code",
      "metadata": {
        "id": "WOX8poLzkjea"
      },
      "source": [
        "model3 = LogisticRegression( penalty = 'l2', C = 1, solver='liblinear' ).fit( X_train, Y_train )\n",
        "predictions3 = model3.predict_proba( X_test )"
      ],
      "execution_count": 65,
      "outputs": []
    },
    {
      "cell_type": "code",
      "metadata": {
        "id": "bXoMmN9dkjea"
      },
      "source": [
        "fpr, tpr, thres = roc_curve( Y_test, predictions[:, 1] )\n",
        "fpr2, tpr2, thres2 = roc_curve( Y_test, predictions2[:, 1] )\n",
        "fpr3, tpr3, thres3 = roc_curve( Y_test, predictions3[:, 1] )"
      ],
      "execution_count": 66,
      "outputs": []
    },
    {
      "cell_type": "code",
      "metadata": {
        "colab": {
          "base_uri": "https://localhost:8080/",
          "height": 279
        },
        "id": "VPzDDQzokjea",
        "outputId": "b821690f-212d-4bce-c736-2b4c617840da"
      },
      "source": [
        "plt.plot( fpr, tpr, label = 'l1' )\n",
        "plt.plot( fpr2, tpr2, label = 'l2' )\n",
        "plt.plot( fpr3, tpr3, label = 'C=1' )\n",
        "\n",
        "plt.xlabel('False Positive Rate')\n",
        "plt.ylabel('True Positive Rate')\n",
        "\n",
        "plt.legend( loc = 0 )\n",
        "plt.show()"
      ],
      "execution_count": 67,
      "outputs": [
        {
          "output_type": "display_data",
          "data": {
            "image/png": "[encoded data removed]",
            "text/plain": [
              "<Figure size 432x288 with 1 Axes>"
            ]
          },
          "metadata": {
            "needs_background": "light"
          }
        }
      ]
    },
    {
      "cell_type": "markdown",
      "metadata": {
        "id": "HcM58XT5kjea"
      },
      "source": [
        "**Построим еще одну модель, используя другие признаки**"
      ]
    },
    {
      "cell_type": "code",
      "metadata": {
        "colab": {
          "base_uri": "https://localhost:8080/",
          "height": 206
        },
        "id": "1xoWxHo9kjeb",
        "outputId": "fa2f3387-9684-475b-e63a-9a061734aeb8"
      },
      "source": [
        "Xshort = pd.get_dummies( data.loc[ :, ['age', 'children'] ], columns = ['age', 'children'] )\n",
        "Xshort.head()"
      ],
      "execution_count": 68,
      "outputs": [
        {
          "output_type": "execute_result",
          "data": {
            "text/html": [
              "<div>\n",
              "<style scoped>\n",
              "    .dataframe tbody tr th:only-of-type {\n",
              "        vertical-align: middle;\n",
              "    }\n",
              "\n",
              "    .dataframe tbody tr th {\n",
              "        vertical-align: top;\n",
              "    }\n",
              "\n",
              "    .dataframe thead th {\n",
              "        text-align: right;\n",
              "    }\n",
              "</style>\n",
              "<table border=\"1\" class=\"dataframe\">\n",
              "  <thead>\n",
              "    <tr style=\"text-align: right;\">\n",
              "      <th></th>\n",
              "      <th>age_17.5</th>\n",
              "      <th>age_22.0</th>\n",
              "      <th>age_27.0</th>\n",
              "      <th>age_32.0</th>\n",
              "      <th>age_37.0</th>\n",
              "      <th>age_42.0</th>\n",
              "      <th>children_0.0</th>\n",
              "      <th>children_1.0</th>\n",
              "      <th>children_2.0</th>\n",
              "      <th>children_3.0</th>\n",
              "      <th>children_4.0</th>\n",
              "      <th>children_5.5</th>\n",
              "    </tr>\n",
              "  </thead>\n",
              "  <tbody>\n",
              "    <tr>\n",
              "      <th>0</th>\n",
              "      <td>0</td>\n",
              "      <td>0</td>\n",
              "      <td>0</td>\n",
              "      <td>1</td>\n",
              "      <td>0</td>\n",
              "      <td>0</td>\n",
              "      <td>0</td>\n",
              "      <td>0</td>\n",
              "      <td>0</td>\n",
              "      <td>1</td>\n",
              "      <td>0</td>\n",
              "      <td>0</td>\n",
              "    </tr>\n",
              "    <tr>\n",
              "      <th>1</th>\n",
              "      <td>0</td>\n",
              "      <td>0</td>\n",
              "      <td>1</td>\n",
              "      <td>0</td>\n",
              "      <td>0</td>\n",
              "      <td>0</td>\n",
              "      <td>0</td>\n",
              "      <td>0</td>\n",
              "      <td>0</td>\n",
              "      <td>1</td>\n",
              "      <td>0</td>\n",
              "      <td>0</td>\n",
              "    </tr>\n",
              "    <tr>\n",
              "      <th>2</th>\n",
              "      <td>0</td>\n",
              "      <td>1</td>\n",
              "      <td>0</td>\n",
              "      <td>0</td>\n",
              "      <td>0</td>\n",
              "      <td>0</td>\n",
              "      <td>1</td>\n",
              "      <td>0</td>\n",
              "      <td>0</td>\n",
              "      <td>0</td>\n",
              "      <td>0</td>\n",
              "      <td>0</td>\n",
              "    </tr>\n",
              "    <tr>\n",
              "      <th>3</th>\n",
              "      <td>0</td>\n",
              "      <td>0</td>\n",
              "      <td>0</td>\n",
              "      <td>0</td>\n",
              "      <td>1</td>\n",
              "      <td>0</td>\n",
              "      <td>0</td>\n",
              "      <td>0</td>\n",
              "      <td>0</td>\n",
              "      <td>0</td>\n",
              "      <td>1</td>\n",
              "      <td>0</td>\n",
              "    </tr>\n",
              "    <tr>\n",
              "      <th>4</th>\n",
              "      <td>0</td>\n",
              "      <td>0</td>\n",
              "      <td>1</td>\n",
              "      <td>0</td>\n",
              "      <td>0</td>\n",
              "      <td>0</td>\n",
              "      <td>0</td>\n",
              "      <td>1</td>\n",
              "      <td>0</td>\n",
              "      <td>0</td>\n",
              "      <td>0</td>\n",
              "      <td>0</td>\n",
              "    </tr>\n",
              "  </tbody>\n",
              "</table>\n",
              "</div>"
            ],
            "text/plain": [
              "   age_17.5  age_22.0  age_27.0  ...  children_3.0  children_4.0  children_5.5\n",
              "0         0         0         0  ...             1             0             0\n",
              "1         0         0         1  ...             1             0             0\n",
              "2         0         1         0  ...             0             0             0\n",
              "3         0         0         0  ...             0             1             0\n",
              "4         0         0         1  ...             0             0             0\n",
              "\n",
              "[5 rows x 12 columns]"
            ]
          },
          "metadata": {},
          "execution_count": 68
        }
      ]
    },
    {
      "cell_type": "code",
      "metadata": {
        "id": "11xzXmVRkjeb"
      },
      "source": [
        "Y = data['affair']"
      ],
      "execution_count": 69,
      "outputs": []
    },
    {
      "cell_type": "code",
      "metadata": {
        "id": "-cqMwESQkjeb"
      },
      "source": [
        "X_train, X_test, Y_train, Y_test = train_test_split( Xshort, Y, test_size = 0.3, random_state = 0 )"
      ],
      "execution_count": 70,
      "outputs": []
    },
    {
      "cell_type": "code",
      "metadata": {
        "id": "zbhO8U0ekjeb"
      },
      "source": [
        "model1 = LogisticRegression( penalty = 'l1', C = 0.01, solver='liblinear' ).fit( X_train, Y_train )\n",
        "model2 = LogisticRegression( penalty = 'l2', C = 0.1, solver='liblinear' ).fit( X_train, Y_train )\n",
        "model3 = LogisticRegression( penalty = 'l2', C = 1, solver='liblinear' ).fit( X_train, Y_train )"
      ],
      "execution_count": 71,
      "outputs": []
    },
    {
      "cell_type": "code",
      "metadata": {
        "id": "lukGLx7Akjeb"
      },
      "source": [
        "predictions = model1.predict_proba( X_test )\n",
        "predictions2 = model2.predict_proba( X_test )\n",
        "predictions3 = model3.predict_proba( X_test )"
      ],
      "execution_count": 72,
      "outputs": []
    },
    {
      "cell_type": "code",
      "metadata": {
        "id": "5fqPbz8dkjec"
      },
      "source": [
        "fpr, tpr, thres = roc_curve( Y_test, predictions[:, 1] )\n",
        "fpr2, tpr2, thres2 = roc_curve( Y_test, predictions2[:, 1] )\n",
        "fpr3, tpr3, thres3 = roc_curve( Y_test, predictions3[:, 1] )"
      ],
      "execution_count": 73,
      "outputs": []
    },
    {
      "cell_type": "code",
      "metadata": {
        "colab": {
          "base_uri": "https://localhost:8080/",
          "height": 279
        },
        "id": "Rg1RLWihkjec",
        "outputId": "65b1a8b1-d59c-407c-d95d-e76dd779086f"
      },
      "source": [
        "plt.plot( fpr, tpr, label = 'l1' )\n",
        "plt.plot( fpr2, tpr2, label = 'l2' )\n",
        "plt.plot( fpr3, tpr3, label = 'C=1' )\n",
        "\n",
        "plt.xlabel('False Positive Rate')\n",
        "plt.ylabel('True Positive Rate')\n",
        "\n",
        "plt.legend( loc = 0 )\n",
        "plt.show()"
      ],
      "execution_count": 74,
      "outputs": [
        {
          "output_type": "display_data",
          "data": {
            "image/png": "[encoded data removed]",
            "text/plain": [
              "<Figure size 432x288 with 1 Axes>"
            ]
          },
          "metadata": {
            "needs_background": "light"
          }
        }
      ]
    },
    {
      "cell_type": "code",
      "metadata": {
        "id": "tLW-iRbZkjec"
      },
      "source": [
        ""
      ],
      "execution_count": null,
      "outputs": []
    }
  ]
}