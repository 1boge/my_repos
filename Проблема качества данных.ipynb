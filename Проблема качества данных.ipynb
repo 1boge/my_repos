{
  "nbformat": 4,
  "nbformat_minor": 0,
  "metadata": {
    "kernelspec": {
      "display_name": "Python 3",
      "language": "python",
      "name": "python3"
    },
    "language_info": {
      "codemirror_mode": {
        "name": "ipython",
        "version": 3
      },
      "file_extension": ".py",
      "mimetype": "text/x-python",
      "name": "python",
      "nbconvert_exporter": "python",
      "pygments_lexer": "ipython3",
      "version": "3.7.6"
    },
    "colab": {
      "name": "Проблема качества данных.ipynb",
      "provenance": []
    }
  },
  "cells": [
    {
      "cell_type": "code",
      "metadata": {
        "id": "DeBomd4hA3UU"
      },
      "source": [
        "import numpy as np\n",
        "import pandas as pd\n",
        "import seaborn as sns\n",
        "\n",
        "from sklearn.linear_model import LinearRegression"
      ],
      "execution_count": 1,
      "outputs": []
    },
    {
      "cell_type": "code",
      "metadata": {
        "id": "rrnUpqdLA3UX",
        "outputId": "4092c4cd-32b3-46c7-e9ee-98e8360578db",
        "colab": {
          "base_uri": "https://localhost:8080/",
          "height": 206
        }
      },
      "source": [
        "# Создаём сэмпл\n",
        "n_samples = 1000\n",
        "\n",
        "#age_owner = np.random.choice(90, n_samples) + 21\n",
        "#length = np.random.choice(120, n_samples) + 15\n",
        "#width = np.random.choice(80, n_samples) + 10\n",
        "season = np.random.choice(3, n_samples) + 10 #Тип сезона 3 - зима, 1 - весна, 0 - лето, 2 - осень\n",
        "tempr = np.random.uniform(low=-100, high=100, size=1000) #Температура воздуха #Увеличил специально для создания большей вариации\n",
        "region = np.random.choice(6, n_samples) #Регион 2 - Северная Америка, 1 - Южная Америка, 4 - Евразия, 0 - Африка, 3 - Автсралия, 5 - Арктика, 6 - Антарктади\n",
        "snow_amount = season * region + tempr + 100 #Рассчитываем объем осадков в виде снега. Добавим константу, чтобы не иметь отрицательный объем.\n",
        " \n",
        "#price = length * width * 100 + 126\n",
        "\n",
        "data = pd.DataFrame({'snow_amount': snow_amount, 'Season': season, 'Temperature': tempr, 'Region': region})\n",
        "data.head(5)"
      ],
      "execution_count": 52,
      "outputs": [
        {
          "output_type": "execute_result",
          "data": {
            "text/html": [
              "<div>\n",
              "<style scoped>\n",
              "    .dataframe tbody tr th:only-of-type {\n",
              "        vertical-align: middle;\n",
              "    }\n",
              "\n",
              "    .dataframe tbody tr th {\n",
              "        vertical-align: top;\n",
              "    }\n",
              "\n",
              "    .dataframe thead th {\n",
              "        text-align: right;\n",
              "    }\n",
              "</style>\n",
              "<table border=\"1\" class=\"dataframe\">\n",
              "  <thead>\n",
              "    <tr style=\"text-align: right;\">\n",
              "      <th></th>\n",
              "      <th>snow_amount</th>\n",
              "      <th>Season</th>\n",
              "      <th>Temperature</th>\n",
              "      <th>Region</th>\n",
              "    </tr>\n",
              "  </thead>\n",
              "  <tbody>\n",
              "    <tr>\n",
              "      <th>0</th>\n",
              "      <td>167.543173</td>\n",
              "      <td>10</td>\n",
              "      <td>37.543173</td>\n",
              "      <td>3</td>\n",
              "    </tr>\n",
              "    <tr>\n",
              "      <th>1</th>\n",
              "      <td>35.044236</td>\n",
              "      <td>11</td>\n",
              "      <td>-75.955764</td>\n",
              "      <td>1</td>\n",
              "    </tr>\n",
              "    <tr>\n",
              "      <th>2</th>\n",
              "      <td>188.404812</td>\n",
              "      <td>11</td>\n",
              "      <td>44.404812</td>\n",
              "      <td>4</td>\n",
              "    </tr>\n",
              "    <tr>\n",
              "      <th>3</th>\n",
              "      <td>187.572509</td>\n",
              "      <td>11</td>\n",
              "      <td>87.572509</td>\n",
              "      <td>0</td>\n",
              "    </tr>\n",
              "    <tr>\n",
              "      <th>4</th>\n",
              "      <td>189.445179</td>\n",
              "      <td>11</td>\n",
              "      <td>67.445179</td>\n",
              "      <td>2</td>\n",
              "    </tr>\n",
              "  </tbody>\n",
              "</table>\n",
              "</div>"
            ],
            "text/plain": [
              "   snow_amount  Season  Temperature  Region\n",
              "0   167.543173      10    37.543173       3\n",
              "1    35.044236      11   -75.955764       1\n",
              "2   188.404812      11    44.404812       4\n",
              "3   187.572509      11    87.572509       0\n",
              "4   189.445179      11    67.445179       2"
            ]
          },
          "metadata": {},
          "execution_count": 52
        }
      ]
    },
    {
      "cell_type": "code",
      "metadata": {
        "id": "RM6gSQsPA3UY",
        "outputId": "f40a55b2-1ddd-406e-9602-84f5ff78b81a",
        "colab": {
          "base_uri": "https://localhost:8080/"
        }
      },
      "source": [
        "from sklearn.metrics import mean_absolute_error\n",
        "\n",
        "X = data[['Season', 'Region']]\n",
        "#X = data[['age_owner', 'length', 'width']]\n",
        "y = data['snow_amount']\n",
        "reg = LinearRegression().fit(X, y)\n",
        "print('Weights: {}'.format(reg.coef_))\n",
        "print('Bias: {}'.format(reg.intercept_))\n",
        "\n",
        "pred_values = reg.predict(data[['Season', 'Region']])\n",
        "print('Error: {}'.format(mean_absolute_error(pred_values, y)))\n",
        "#С двумя признаками ошибка даволно высокая, возможно еще небольшая вариация значений признаков\n",
        "#Видно, что модель восновном использует Регион для предсказывания"
      ],
      "execution_count": 53,
      "outputs": [
        {
          "output_type": "stream",
          "name": "stdout",
          "text": [
            "Weights: [-0.42409347 11.28234857]\n",
            "Bias: 106.3219520570039\n",
            "Error: 49.52722774770415\n"
          ]
        }
      ]
    },
    {
      "cell_type": "code",
      "metadata": {
        "id": "Nc5JFC9cA3UZ",
        "outputId": "e398161f-ddc9-4d5c-ea62-42abb7f8c1c9",
        "colab": {
          "base_uri": "https://localhost:8080/"
        }
      },
      "source": [
        "y.median()"
      ],
      "execution_count": 54,
      "outputs": [
        {
          "output_type": "execute_result",
          "data": {
            "text/plain": [
              "132.31584023010754"
            ]
          },
          "metadata": {},
          "execution_count": 54
        }
      ]
    },
    {
      "cell_type": "code",
      "metadata": {
        "id": "7_srcVCCA3Ua",
        "outputId": "9372b430-6873-4e9b-ede7-74a4fc9396a8",
        "colab": {
          "base_uri": "https://localhost:8080/"
        }
      },
      "source": [
        "\n",
        "\n",
        "X = data[['Season', 'Temperature', 'Region']]\n",
        "#X = data[['age_owner', 'length', 'width']]\n",
        "y = data['snow_amount']\n",
        "reg = LinearRegression().fit(X, y)\n",
        "print('Weights: {}'.format(reg.coef_))\n",
        "print('Bias: {}'.format(reg.intercept_))\n",
        "\n",
        "pred_values = reg.predict(data[['Season', 'Temperature', 'Region']])\n",
        "print('Error: {}'.format(mean_absolute_error(pred_values, y)))\n",
        "#При добавление третьего признака ошибка уменьшается"
      ],
      "execution_count": 55,
      "outputs": [
        {
          "output_type": "stream",
          "name": "stdout",
          "text": [
            "Weights: [ 2.49811102  0.99965255 11.02691842]\n",
            "Bias: 72.5107094897055\n",
            "Error: 0.9586175024901125\n"
          ]
        }
      ]
    }
  ]
}